{
 "cells": [
  {
   "cell_type": "code",
   "execution_count": 1,
   "metadata": {},
   "outputs": [],
   "source": [
    "import sys\n",
    "import os\n",
    "\n",
    "# Add the directory that contains implementations.py\n",
    "sys.path.append(os.path.abspath(r\"../\"))\n",
    "\n",
    "from implementations import *\n",
    "import numpy as np\n",
    "import matplotlib.pyplot as plt\n",
    "from log_helpers import *"
   ]
  },
  {
   "cell_type": "code",
   "execution_count": 5,
   "metadata": {},
   "outputs": [],
   "source": [
    "\n",
    "# Paths to X and y data\n",
    "X_path = '..\\\\data\\\\x_train.csv'\n",
    "y_path = '..\\\\data\\\\y_train.csv'\n",
    "\n",
    "# Load the data\n",
    "X, y = load_csv_data(X_path, y_path, frac=.1)\n",
    "tx, y = clean_and_standardize(X, y)"
   ]
  },
  {
   "cell_type": "markdown",
   "metadata": {},
   "source": [
    "### Cross validation"
   ]
  },
  {
   "cell_type": "code",
   "execution_count": 6,
   "metadata": {},
   "outputs": [
    {
     "name": "stdout",
     "output_type": "stream",
     "text": [
      "Current iteration=0, loss=0.6931471805599259\n",
      "Current iteration=100, loss=0.22816587983645098\n",
      "Lambda=1e-07, Training loss=0.22738470072143804\n",
      "Current iteration=0, loss=0.693147180559926\n",
      "Current iteration=100, loss=0.23156967312858426\n",
      "Lambda=1e-07, Training loss=0.2308492574611267\n",
      "Current iteration=0, loss=0.6931471805599259\n",
      "Current iteration=100, loss=0.2331443526695708\n",
      "Lambda=1e-07, Training loss=0.2324723588890321\n",
      "Current iteration=0, loss=0.693147180559926\n",
      "Current iteration=100, loss=0.23239914458887342\n",
      "Lambda=1.4677992676220705e-06, Training loss=0.2316941737133903\n",
      "Current iteration=0, loss=0.693147180559926\n",
      "Current iteration=100, loss=0.23042665783238514\n",
      "Lambda=1.4677992676220705e-06, Training loss=0.22968327292434385\n",
      "Current iteration=0, loss=0.693147180559926\n",
      "Current iteration=100, loss=0.23039289608162355\n",
      "Lambda=1.4677992676220705e-06, Training loss=0.22967553828670384\n",
      "Current iteration=0, loss=0.6931471805599257\n",
      "Current iteration=100, loss=0.23148054840250679\n",
      "Lambda=2.1544346900318867e-05, Training loss=0.23078972548553653\n",
      "Current iteration=0, loss=0.693147180559926\n",
      "Current iteration=100, loss=0.23358668756916637\n",
      "Lambda=2.1544346900318867e-05, Training loss=0.23283717637322404\n",
      "Current iteration=0, loss=0.6931471805599259\n",
      "Current iteration=100, loss=0.22796567148072713\n",
      "Lambda=2.1544346900318867e-05, Training loss=0.22721038676514152\n",
      "Current iteration=0, loss=0.693147180559926\n",
      "Current iteration=100, loss=0.23016041394881775\n",
      "Lambda=0.00031622776601683794, Training loss=0.22950498620299029\n",
      "Current iteration=0, loss=0.6931471805599259\n",
      "Current iteration=100, loss=0.2303015434704788\n",
      "Lambda=0.00031622776601683794, Training loss=0.22956147236108176\n",
      "Current iteration=0, loss=0.693147180559926\n",
      "Current iteration=100, loss=0.2330757547128322\n",
      "Lambda=0.00031622776601683794, Training loss=0.23242170738680687\n",
      "Current iteration=0, loss=0.693147180559926\n",
      "Current iteration=100, loss=0.23281909684035823\n",
      "Lambda=0.004641588833612782, Training loss=0.23252732792302752\n",
      "Current iteration=0, loss=0.6931471805599259\n",
      "Current iteration=100, loss=0.2341585406013041\n",
      "Lambda=0.004641588833612782, Training loss=0.23386736372854086\n",
      "Current iteration=0, loss=0.6931471805599257\n",
      "Current iteration=100, loss=0.23313075417365184\n",
      "Lambda=0.004641588833612782, Training loss=0.23282647613750024\n",
      "Current iteration=0, loss=0.6931471805599259\n",
      "Current iteration=100, loss=0.24838897284417616\n",
      "Lambda=0.06812920690579623, Training loss=0.24838576957699404\n",
      "Current iteration=0, loss=0.6931471805599259\n",
      "Current iteration=100, loss=0.24907299439625252\n",
      "Lambda=0.06812920690579623, Training loss=0.24906971141372047\n",
      "Current iteration=0, loss=0.6931471805599259\n",
      "Current iteration=100, loss=0.24869142868118493\n",
      "Lambda=0.06812920690579623, Training loss=0.2486881633111954\n",
      "Current iteration=0, loss=0.693147180559926\n",
      "Current iteration=100, loss=0.319539667806869\n",
      "Lambda=1.0, Training loss=0.6734368184240227\n",
      "Current iteration=0, loss=0.693147180559926\n",
      "Current iteration=100, loss=0.29482039885564415\n",
      "Lambda=1.0, Training loss=0.4450374652160396\n",
      "Current iteration=0, loss=0.693147180559926\n",
      "Current iteration=100, loss=0.4067325766407657\n",
      "Lambda=1.0, Training loss=0.3254679377087828\n"
     ]
    }
   ],
   "source": [
    "# Set initial parameters\n",
    "initial_w = np.zeros((tx.shape[1], 1))\n",
    "max_iters = 200  # Number of iterations\n",
    "gamma = 1  # Learning rate\n",
    "\n",
    "# Cross validation\n",
    "lambdas, losses_tr, losses_te = cross_validation_reg_log(y, tx, 3, np.logspace(-7, 0, 7), max_iters, gamma)"
   ]
  },
  {
   "cell_type": "code",
   "execution_count": 7,
   "metadata": {},
   "outputs": [
    {
     "data": {
      "image/png": "[encoded data removed]",
      "text/plain": [
       "<Figure size 640x480 with 1 Axes>"
      ]
     },
     "metadata": {},
     "output_type": "display_data"
    }
   ],
   "source": [
    "plt.plot(lambdas, losses_tr, label='Training loss')\n",
    "plt.plot(lambdas, losses_te, label = 'Test loss')\n",
    "plt.xscale('log')\n",
    "plt.xlabel('$\\lambda$')\n",
    "plt.legend()\n",
    "plt.savefig('Hyperparametertuning.png', dpi=369)"
   ]
  },
  {
   "cell_type": "code",
   "execution_count": 6,
   "metadata": {},
   "outputs": [],
   "source": [
    "newpath = '.\\\\hyperparam_tuning\\\\max_iters_400_gamma_1_lams_logspace-7_0_35_k_6' \n",
    "save_array_as_csv(lambdas, 'lambdas', newpath)"
   ]
  },
  {
   "cell_type": "code",
   "execution_count": 8,
   "metadata": {},
   "outputs": [],
   "source": [
    "# Find the best lambda    \n",
    "best_lambda = lambdas[np.argmin(losses_te)]"
   ]
  },
  {
   "cell_type": "code",
   "execution_count": 9,
   "metadata": {},
   "outputs": [
    {
     "data": {
      "text/plain": [
       "1.4677992676220705e-06"
      ]
     },
     "execution_count": 9,
     "metadata": {},
     "output_type": "execute_result"
    }
   ],
   "source": [
    "best_lambda"
   ]
  },
  {
   "cell_type": "markdown",
   "metadata": {},
   "source": [
    "### Training with best lambda, extra long!"
   ]
  },
  {
   "cell_type": "code",
   "execution_count": 9,
   "metadata": {},
   "outputs": [],
   "source": [
    "lambda_ = best_lambda\n",
    "# Set initial parameters\n",
    "initial_w = np.zeros((tx.shape[1], 1))\n",
    "max_iters = 100000  # Number of iterations\n",
    "gamma = 0.5  # Learning rate"
   ]
  },
  {
   "cell_type": "code",
   "execution_count": 10,
   "metadata": {},
   "outputs": [
    {
     "name": "stdout",
     "output_type": "stream",
     "text": [
      "Current iteration=0, loss=0.6931471805600689\n",
      "Current iteration=100, loss=0.22933462271261212\n",
      "Current iteration=200, loss=0.22658520498308887\n",
      "Current iteration=300, loss=0.2259742427307593\n",
      "Current iteration=400, loss=0.22573875701115767\n",
      "Current iteration=500, loss=0.22561708758832935\n",
      "Current iteration=600, loss=0.22554202533267337\n",
      "Current iteration=700, loss=0.22549061271886675\n",
      "Current iteration=800, loss=0.2254531312434999\n",
      "Current iteration=900, loss=0.22542469445214572\n",
      "Current iteration=1000, loss=0.2254025045877077\n",
      "Current iteration=1100, loss=0.2253848069252999\n",
      "Current iteration=1200, loss=0.22537043129966303\n",
      "Current iteration=1300, loss=0.2253585644806532\n",
      "Current iteration=1400, loss=0.22534862480757661\n",
      "Current iteration=1500, loss=0.22534018733586605\n",
      "Current iteration=1600, loss=0.225332936395091\n",
      "Current iteration=1700, loss=0.22532663419838844\n",
      "Current iteration=1800, loss=0.22532109941737805\n",
      "Current iteration=1900, loss=0.22531619221983223\n",
      "Current iteration=2000, loss=0.225311803635736\n",
      "Current iteration=2100, loss=0.22530784789275873\n",
      "Current iteration=2200, loss=0.22530425682657493\n",
      "Current iteration=2300, loss=0.2253009757621718\n",
      "Current iteration=2400, loss=0.22529796045054978\n",
      "Current iteration=2500, loss=0.225295174770429\n",
      "Current iteration=2600, loss=0.22529258898955096\n",
      "Current iteration=2700, loss=0.22529017843875057\n",
      "Current iteration=2800, loss=0.22528792249290894\n",
      "Current iteration=2900, loss=0.22528580378179106\n",
      "Current iteration=3000, loss=0.22528380757435298\n",
      "Current iteration=3100, loss=0.22528192129488722\n",
      "Current iteration=3200, loss=0.22528013414007597\n",
      "Current iteration=3300, loss=0.22527843677380446\n",
      "Current iteration=3400, loss=0.22527682108230812\n",
      "Current iteration=3500, loss=0.225275279976442\n",
      "Current iteration=3600, loss=0.22527380723099322\n",
      "Current iteration=3700, loss=0.22527239735329813\n",
      "Current iteration=3800, loss=0.22527104547518473\n",
      "Current iteration=3900, loss=0.22526974726359553\n",
      "Current iteration=4000, loss=0.2252684988462551\n",
      "Current iteration=4100, loss=0.2252672967495241\n",
      "Current iteration=4200, loss=0.22526613784617988\n",
      "Current iteration=4300, loss=0.22526501931132245\n",
      "Current iteration=4400, loss=0.22526393858496924\n",
      "Current iteration=4500, loss=0.22526289334017915\n",
      "Lambda=1.7190722018585747e-06, Training loss=0.22526200118620274\n"
     ]
    }
   ],
   "source": [
    "final_w, final_loss = reg_logistic_regression(y, tx, lambda_, initial_w, max_iters, gamma)"
   ]
  },
  {
   "cell_type": "markdown",
   "metadata": {},
   "source": [
    "### Safe results"
   ]
  },
  {
   "cell_type": "code",
   "execution_count": 92,
   "metadata": {},
   "outputs": [],
   "source": [
    "path = '.\\\\final_results' \n",
    "name = 'resuts'\n",
    "X_path = '..\\\\data\\\\x_test.csv'\n",
    "y, _ = safe_results(final_w, X_path, path, name)"
   ]
  }
 ],
 "metadata": {
  "kernelspec": {
   "display_name": "Python 3 (ipykernel)",
   "language": "python",
   "name": "python3"
  },
  "language_info": {
   "codemirror_mode": {
    "name": "ipython",
    "version": 3
   },
   "file_extension": ".py",
   "mimetype": "text/x-python",
   "name": "python",
   "nbconvert_exporter": "python",
   "pygments_lexer": "ipython3",
   "version": "3.11.5"
  }
 },
 "nbformat": 4,
 "nbformat_minor": 2
}
