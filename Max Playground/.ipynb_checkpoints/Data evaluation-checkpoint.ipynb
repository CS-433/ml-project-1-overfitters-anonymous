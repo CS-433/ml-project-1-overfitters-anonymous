{
 "cells": [
  {
   "cell_type": "code",
   "execution_count": 1,
   "metadata": {},
   "outputs": [],
   "source": [
    "import sys\n",
    "import os\n",
    "\n",
    "# Add the directory that contains implementations.py\n",
    "sys.path.append(os.path.abspath(r\"../\"))\n",
    "\n",
    "from implementations import *\n",
    "import numpy as np\n",
    "import matplotlib.pyplot as plt"
   ]
  },
  {
   "cell_type": "code",
   "execution_count": 6,
   "metadata": {},
   "outputs": [],
   "source": [
    "from log_helpers import *\n",
    "# Paths to X and y data\n",
    "X_path = '..\\\\data\\\\x_train.csv'\n",
    "y_path = '..\\\\data\\\\y_train.csv'\n",
    "\n",
    "# Load the data\n",
    "X, y = load_csv_data(X_path, y_path, frac=1)\n",
    "tx, y = clean_and_standardize(X, y)"
   ]
  },
  {
   "cell_type": "code",
   "execution_count": 3,
   "metadata": {},
   "outputs": [],
   "source": [
    "# Set initial parameters\n",
    "initial_w = np.zeros((tx.shape[1], 1))\n",
    "max_iters = 1000  # Number of iterations\n",
    "gamma = 0.01  # Learning rate\n",
    "lambda_ = 1  # Regularization parameter (lambda)"
   ]
  },
  {
   "cell_type": "code",
   "execution_count": 7,
   "metadata": {},
   "outputs": [],
   "source": [
    "def build_k_indices(y, k_fold, seed):\n",
    "    \"\"\"build k indices for k-fold.\n",
    "\n",
    "    Args:\n",
    "        y:      shape=(N,)\n",
    "        k_fold: K in K-fold, i.e. the fold num\n",
    "        seed:   the random seed\n",
    "\n",
    "    Returns:\n",
    "        A 2D array of shape=(k_fold, N/k_fold) that indicates the data indices for each fold\n",
    "\n",
    "    >>> build_k_indices(np.array([1., 2., 3., 4.]), 2, 1)\n",
    "    array([[3, 2],\n",
    "           [0, 1]])\n",
    "    \"\"\"\n",
    "    num_row = y.shape[0]\n",
    "    interval = int(num_row / k_fold)\n",
    "    np.random.seed(seed)\n",
    "    indices = np.random.permutation(num_row)\n",
    "    k_indices = [indices[k * interval : (k + 1) * interval] for k in range(k_fold)]\n",
    "    return np.array(k_indices)\n",
    "\n",
    "\n",
    "def cross_validation(y, tx, k_indices, k, lambda_, gamma, max_iters):\n",
    "    \"\"\"return the loss of ridge regression for a fold corresponding to k_indices\n",
    "\n",
    "    Args:\n",
    "        y:          shape=(N,)\n",
    "        tx:         shape=(N+1,)\n",
    "        k_indices:  2D array returned by build_k_indices()\n",
    "        k:          scalar, the k-th fold (N.B.: not to confused with k_fold which is the fold nums)\n",
    "        lambda_:    scalar, cf. ridge_regression()\n",
    "        degree:     scalar, cf. build_poly()\n",
    "\n",
    "    Returns:\n",
    "        train and test root mean square errors rmse = sqrt(2 mse)\n",
    "\n",
    "    >>> cross_validation(np.array([1.,2.,3.,4.]), np.array([6.,7.,8.,9.]), np.array([[3,2], [0,1]]), 1, 2, 3)\n",
    "    (0.019866645527595362, 0.33555914361295547)\n",
    "    \"\"\"\n",
    "\n",
    "    # get k'th subgroup in test, others in train\n",
    "    tx_test = tx[k_indices[k]]\n",
    "    y_test = y[k_indices[k]]\n",
    "    k_train = np.concatenate([k_indices[i] for i in range(len(k_indices)) if i != k])\n",
    "    tx_train = tx[k_train]\n",
    "    y_train = y[k_train]\n",
    "    initial_w = np.zeros((tx.shape[1], 1))\n",
    "    \n",
    "    \n",
    "    # ridge regression: \n",
    "    w, loss_tr = reg_logistic_regression(y_test, tx_test, lambda_, initial_w, max_iters, gamma)\n",
    "    \n",
    "    # calculate the loss for train and test data: \n",
    "    loss_te = calculate_loss_log(y_test, tx_test, w)\n",
    "    return loss_tr, loss_te"
   ]
  },
  {
   "cell_type": "code",
   "execution_count": null,
   "metadata": {},
   "outputs": [
    {
     "name": "stdout",
     "output_type": "stream",
     "text": [
      "Lambda=1e-10, Training loss=0.2735299641513147\n",
      "Lambda=1e-10, Training loss=0.2728904220373835\n"
     ]
    }
   ],
   "source": [
    "def cross_validation_reg_log(y, tx, k_fold, lambdas, max_iters, gamma):\n",
    "    \"\"\"cross validation over regularisation parameter lambda.\n",
    "\n",
    "    Args:\n",
    "        degree: integer, degree of the polynomial expansion\n",
    "        k_fold: integer, the number of folds\n",
    "        lambdas: shape = (p, ) where p is the number of values of lambda to test\n",
    "    Returns:\n",
    "        best_lambda : scalar, value of the best lambda\n",
    "        best_rmse : scalar, the associated root mean squared error for the best lambda\n",
    "    \"\"\"\n",
    "\n",
    "    seed = 12\n",
    "    # split data in k fold\n",
    "    \n",
    "    k_indices = build_k_indices(y, k_fold, seed)\n",
    "    # define lists to store the loss of training data and test data\n",
    "    rmse_tr = []\n",
    "    rmse_te = []\n",
    "    \n",
    "    # cross validation over lambdas\n",
    "    \n",
    "    # Looping over lambdas\n",
    "    for lambda_ in lambdas:\n",
    "        rmse_temp_train = 0\n",
    "        rmse_temp_test = 0\n",
    "        \n",
    "        # Looping over ks so that every section is test once\n",
    "        for k in range(k_fold):\n",
    "            loss_tr, loss_te= cross_validation(y, tx, build_k_indices(y, k_fold, seed), k, lambda_, gamma, max_iters)\n",
    "            rmse_temp_train+=loss_tr\n",
    "            rmse_temp_test+=loss_te\n",
    "            \n",
    "        # Average RMSE over folds\n",
    "        rmse_temp_train/=k_fold\n",
    "        rmse_temp_test/=k_fold\n",
    "        \n",
    "        # Append result\n",
    "        rmse_tr.append(rmse_temp_train)\n",
    "        rmse_te.append(rmse_temp_test)\n",
    "        \n",
    "    # Find the best lambda    \n",
    "    best_rmse = min(rmse_te)\n",
    "    best_lambda = lambdas[np.argmin(rmse_te)]\n",
    "        \n",
    "    return lambdas, rmse_tr, rmse_te\n",
    "\n",
    "\n",
    "lambdas, rmse_tr, rmse_te = cross_validation_reg_log(y, tx, 7, np.logspace(-10, -1, 50), 1000, gamma)"
   ]
  },
  {
   "cell_type": "code",
   "execution_count": 14,
   "metadata": {},
   "outputs": [
    {
     "data": {
      "image/png": "[encoded data removed]",
      "text/plain": [
       "<Figure size 640x480 with 1 Axes>"
      ]
     },
     "metadata": {},
     "output_type": "display_data"
    }
   ],
   "source": [
    "plt.plot(lambdas, rmse_tr)\n",
    "plt.plot(lambdas, rmse_te)\n",
    "plt.xscale('log')"
   ]
  },
  {
   "cell_type": "code",
   "execution_count": 15,
   "metadata": {},
   "outputs": [],
   "source": [
    "# Find the best lambda    \n",
    "best_rmse = min(rmse_te)\n",
    "best_lambda = lambdas[np.argmin(rmse_te)]"
   ]
  },
  {
   "cell_type": "code",
   "execution_count": 16,
   "metadata": {},
   "outputs": [
    {
     "data": {
      "text/plain": [
       "1e-10"
      ]
     },
     "execution_count": 16,
     "metadata": {},
     "output_type": "execute_result"
    }
   ],
   "source": [
    "best_lambda"
   ]
  },
  {
   "cell_type": "code",
   "execution_count": null,
   "metadata": {},
   "outputs": [],
   "source": []
  },
  {
   "cell_type": "code",
   "execution_count": 8,
   "metadata": {},
   "outputs": [
    {
     "data": {
      "text/plain": [
       "array([1.00000000e-04, 1.37382380e-04, 1.88739182e-04, 2.59294380e-04,\n",
       "       3.56224789e-04, 4.89390092e-04, 6.72335754e-04, 9.23670857e-04,\n",
       "       1.26896100e-03, 1.74332882e-03, 2.39502662e-03, 3.29034456e-03,\n",
       "       4.52035366e-03, 6.21016942e-03, 8.53167852e-03, 1.17210230e-02,\n",
       "       1.61026203e-02, 2.21221629e-02, 3.03919538e-02, 4.17531894e-02,\n",
       "       5.73615251e-02, 7.88046282e-02, 1.08263673e-01, 1.48735211e-01,\n",
       "       2.04335972e-01, 2.80721620e-01, 3.85662042e-01, 5.29831691e-01,\n",
       "       7.27895384e-01, 1.00000000e+00])"
      ]
     },
     "execution_count": 8,
     "metadata": {},
     "output_type": "execute_result"
    }
   ],
   "source": [
    "np.logspace(-4, 0, 30)"
   ]
  },
  {
   "cell_type": "code",
   "execution_count": 11,
   "metadata": {},
   "outputs": [],
   "source": [
    "def split_data(x, y, ratio, seed=1):\n",
    "    \"\"\"\n",
    "    Split the dataset based on the split ratio. If ratio is 0.8,\n",
    "    you will have 80% of your data set dedicated to training\n",
    "    and the rest dedicated to testing. If ratio times the number\n",
    "    of samples is not an integer, use np.floor to determine the\n",
    "    number of training samples. Also check the documentation for\n",
    "    np.random.permutation, it could be useful.\n",
    "\n",
    "    Args:\n",
    "        x: numpy array of shape (N,), N is the number of samples.\n",
    "        y: numpy array of shape (N,).\n",
    "        ratio: scalar in [0,1]\n",
    "        seed: integer.\n",
    "\n",
    "    Returns:\n",
    "        x_tr: numpy array containing the training data.\n",
    "        x_te: numpy array containing the testing data.\n",
    "        y_tr: numpy array containing the training labels.\n",
    "        y_te: numpy array containing the testing labels.\n",
    "\n",
    "    >>> split_data(np.arange(13), np.arange(13), 0.8, 1)\n",
    "    (array([ 2,  3,  4, 10,  1,  6,  0,  7, 12,  9]), array([ 8, 11,  5]),\n",
    "     array([ 2,  3,  4, 10,  1,  6,  0,  7, 12,  9]), array([ 8, 11,  5]))\n",
    "    \"\"\"\n",
    "    # Set the random seed for reproducibility\n",
    "    np.random.seed(seed)\n",
    "    \n",
    "    # Get the number of samples\n",
    "    N = len(y)\n",
    "    \n",
    "    # Generate a random permutation of indices\n",
    "    shuffled_indices = np.random.permutation(N)\n",
    "    \n",
    "    # Calculate the number of training samples\n",
    "    split_idx = int(np.floor(ratio * N))\n",
    "    \n",
    "    # Split the indices\n",
    "    train_indices = shuffled_indices[:split_idx]\n",
    "    test_indices = shuffled_indices[split_idx:]\n",
    "    \n",
    "    # Split the data according to the indices\n",
    "    x_tr = x[train_indices]\n",
    "    y_tr = y[train_indices]\n",
    "    x_te = x[test_indices]\n",
    "    y_te = y[test_indices]\n",
    "    \n",
    "    return x_tr, x_te, y_tr, y_te"
   ]
  }
 ],
 "metadata": {
  "kernelspec": {
   "display_name": "Python 3 (ipykernel)",
   "language": "python",
   "name": "python3"
  },
  "language_info": {
   "codemirror_mode": {
    "name": "ipython",
    "version": 3
   },
   "file_extension": ".py",
   "mimetype": "text/x-python",
   "name": "python",
   "nbconvert_exporter": "python",
   "pygments_lexer": "ipython3",
   "version": "3.11.5"
  }
 },
 "nbformat": 4,
 "nbformat_minor": 2
}
